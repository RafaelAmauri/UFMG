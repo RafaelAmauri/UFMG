{
 "cells": [
  {
   "cell_type": "markdown",
   "metadata": {},
   "source": [
    "Um sistema foi avaliado quanto ao impacto de 3 parâmetros – A, B e C. Cada parâmetro foi variado em dois níveis diferentes e, para cada configuração, o experimento foi replicado três vezes. A tabela abaixo mostra os resultados da variável resposta R obtidos em cada experimento, definido pelos valores atribuídos a A, B e C.\n",
    "\n",
    "| A    | B  | C  | Replicacao 1 | Replicacao 2 | Replicacao 3 |\n",
    "|------|----|----|--------------|--------------|--------------|\n",
    "| -1.5 | -2 | 0  | 1.4          | 1.2          | 1.3          |\n",
    "| 0.5  | -2 | -2 | 0.6          | 0.8          | 0.7          |\n",
    "| -1.5 | 0  | -2 | 1.7          | 1.9          | 1.8          |\n",
    "| 0.5  | 0  | 0  | 1.2          | 1.0          | 1.1          |\n",
    "\n",
    "xA = -1 se A = -1.5 e +1 se A = 0.5\n",
    "\n",
    "xB = -1 se B = -2   e +1 se B = 0\n",
    "\n",
    "xC = -1 se C = -2   e +1 se C = 0\n",
    "\n",
    "\n",
    "### Qual o polinômio gerador deste projeto experimental? Liste todos os confoundings, caso existam, e discuta o que eles representam em termos do impacto na precisão do modelo\n",
    "\n",
    "Esse é um projeto 2^(3-1). Dá pra saber porque temos 3 fatores e só 2^2 experimentos. Logo, o p desse projeto 2^(k-p) é 1.\n",
    "\n",
    "O polinômio gerador tem que prestar um pouco de atenção pra ver, mas note que:\n",
    "\n",
    "* Quando A é -1, e B é -1, o C é  1\n",
    "* Quando A é  1, e B é -1, o C é -1\n",
    "* Quando A é -1, e B é  1, o C é -1\n",
    "* Quando A é  1, e B é  1, o C é  1\n",
    "\n",
    "É uma multiplicação. O C é sempre A*B.\n",
    "\n",
    "Com isso, se a gente passa o C para o outro lado, fica:\n",
    "\n",
    "Nada(?) = ABC\n",
    "O \"nada\" vira o I do polinômio gerador. Assim o polinômio gerador vira\n",
    "I = ABC\n",
    "\n",
    "(A álgebra de confoundings é meio maluca, não tem a ver com álgebra normal. Tem um PDF dela que explica essa álgebra de confoundings, mas eu lembro que você passar as letrinhas de um lado pro outro, elas não passam dividindo nem multiplicando.)\n",
    "\n",
    "Os confoundings são obtidos passando as letrinhas pro lado.\n",
    "I (nada) = ABC\n",
    "A = BC\n",
    "B = AC\n",
    "C = AB\n",
    "\n",
    "Os confoundings são esses A, B e C. O I não é um confounding."
   ]
  }
 ],
 "metadata": {
  "kernelspec": {
   "display_name": "Python 3",
   "language": "python",
   "name": "python3"
  },
  "language_info": {
   "name": "python",
   "version": "3.13.1"
  }
 },
 "nbformat": 4,
 "nbformat_minor": 2
}
