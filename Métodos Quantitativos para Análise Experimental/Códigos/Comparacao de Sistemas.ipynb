{
 "cells": [
  {
   "cell_type": "markdown",
   "metadata": {},
   "source": [
    "### Dados dois sistemas, A e B, você pode dizer que eles são significativamente diferentes com 95% de confiança?"
   ]
  },
  {
   "cell_type": "code",
   "execution_count": 9,
   "metadata": {},
   "outputs": [
    {
     "name": "stdout",
     "output_type": "stream",
     "text": [
      "Diferença das médias: 1.1300\n",
      "Sd: 0.7804\n",
      "Graus de liberdade: 2\n",
      "IC =[-0.8089, 3.0689]\n"
     ]
    }
   ],
   "source": [
    "import numpy as np\n",
    "\n",
    "def calculateAttributes(results1, results2):\n",
    "    # Aqui é um teste independente de numero de amostras diferentes\n",
    "    if len(results1) != len(results2):\n",
    "        mediaA = np.mean(results1)\n",
    "        mediaB = np.mean(results2)\n",
    "\n",
    "        diferencaMedias = mediaA - mediaB\n",
    "\n",
    "        Sa = np.std(results1, ddof=1)\n",
    "        Sb = np.std(results2, ddof=1)\n",
    "\n",
    "        Sa2 = (Sa**2) / len(results1)\n",
    "        Sb2 = (Sb**2) / len(results2)\n",
    "\n",
    "        Sd = np.sqrt( ( (Sa**2) / len(results1) ) + ( (Sb**2) / len(results2) ) )\n",
    "        print(f\"Sd: {Sd:.4f}\")\n",
    "\n",
    "        degreesOfFreedom = ((Sd**2)**2) / ( (1 / (len(results1)-1) * Sa2**2) + ( 1 / (len(results2)-1) * Sb2**2 ) ) - 2\n",
    "        print(f\"Graus de liberdade: {degreesOfFreedom:.4f}\")\n",
    "    # Aqui é um teste pareado de numero de amostras iguais.\n",
    "    else:\n",
    "        diferencaMedias = 0\n",
    "        diffs = []\n",
    "        for r1, r2 in zip(results1, results2):\n",
    "            diferencaMedias += r1 - r2\n",
    "            diffs.append(r1 - r2)\n",
    "        diferencaMedias = diferencaMedias / len(results1)\n",
    "        print(f\"Diferença das médias: {diferencaMedias:.4f}\")\n",
    "\n",
    "        \n",
    "        Sd = np.std(diffs, ddof=1)\n",
    "        print(f\"Sd: {Sd:.4f}\")\n",
    "\n",
    "        degreesOfFreedom = len(results1) - 1\n",
    "        print(f\"Graus de liberdade: {degreesOfFreedom}\")\n",
    "\n",
    "        valorTabelaT = 4.303\n",
    "\n",
    "        IC =  valorTabelaT * (Sd / np.sqrt(len(results1)))\n",
    "        print(f\"IC =[{diferencaMedias - IC:.4f}, {diferencaMedias + IC:.4f}]\")\n",
    "\n",
    "ANormal     = [17, 12, 9, 11, 14, 12]\n",
    "BNormal     = [21, 18, 8, 13, 17, 17]\n",
    "BLiteratura = [20, 6, 10, 12, 15, 7, 9, 10]\n",
    "\n",
    "t1 = [77.54, 78.91, 77.3]\n",
    "t2 = [77.31, 77.37, 75.68]\n",
    "calculateAttributes(t1, t2)"
   ]
  },
  {
   "cell_type": "code",
   "execution_count": 3,
   "metadata": {},
   "outputs": [
    {
     "name": "stdout",
     "output_type": "stream",
     "text": [
      "Sd: 1.9588\n",
      "Graus de liberdade: 9.6055\n",
      "IC: [-3.0558, 5.8058]\n"
     ]
    }
   ],
   "source": [
    "import numpy as np\n",
    "\n",
    "ANormal     = [17, 12, 9, 11, 14, 12]\n",
    "BNormal     = [21, 18, 8, 13, 17, 17]\n",
    "BLiteratura = [20, 6, 10, 12, 15, 7, 9, 10]\n",
    "\n",
    "# Calculamos as medias e depois a diferença das médias.\n",
    "mediaA = np.mean(ANormal)\n",
    "mediaB = np.mean(BLiteratura)\n",
    "\n",
    "diferencaMedias = mediaA - mediaB\n",
    "\n",
    "Sa = np.std(ANormal, ddof=1)\n",
    "Sb = np.std(BLiteratura, ddof=1)\n",
    "\n",
    "Sa2 = (Sa**2) / len(ANormal)\n",
    "Sb2 = (Sb**2) / len(BLiteratura)\n",
    "\n",
    "Sd = np.sqrt( ( (Sa**2) / len(ANormal) ) + ( (Sb**2) / len(BLiteratura) ) )\n",
    "print(f\"Sd: {Sd:.4f}\")\n",
    "\n",
    "degreesOfFreedom = ((Sd**2)**2) / ( (1 / (len(ANormal)-1) * Sa2**2) + ( 1 / (len(BLiteratura)-1) * Sb2**2 ) ) - 2\n",
    "print(f\"Graus de liberdade: {degreesOfFreedom:.4f}\")\n",
    "# A Jussara diz para sempre arredondar os graus de liberdade para BAIXO!\n",
    "# Só arredonde para cima se der 9.999, aí tudo bem. Mas, se der 9.6, 9.7, 9.8, até 9.9.... Sempre arredonde para baixo :)\n",
    "\n",
    "# Agora, fazemos o IC de 95%. Já temos os graus de liberdade e o desvio. Vamos na tabela T:\n",
    "# Como queremos ver se é diferente, pegamos o two-tailed.\n",
    "# Two-tailed 95% com 9 graus de liberdade... Achei!\n",
    "# 2.262!\n",
    "\n",
    "valorTabelaT = 2.262\n",
    "\n",
    "lowerBound = diferencaMedias - 2.262 * 1.9588\n",
    "upperBound = diferencaMedias + 2.262 * 1.9588\n",
    "print(f\"IC: [{lowerBound:.4f}, {upperBound:.4f}]\")"
   ]
  },
  {
   "cell_type": "markdown",
   "metadata": {},
   "source": [
    "### Quantos experimentos mais você precisaria realizar para garantir, com 95% de confiança, um erro máximo de 10% na estimativa do tempo médio de execução do sistema A?"
   ]
  },
  {
   "cell_type": "code",
   "execution_count": 4,
   "metadata": {},
   "outputs": [
    {
     "name": "stdout",
     "output_type": "stream",
     "text": [
      "Graus de liberdade: 5\n",
      "Faltam 25.728196800000006 experimentos!\n"
     ]
    }
   ],
   "source": [
    "# Quando não tem um B para comparar, a fórmula dos graus de liberdade muda para nAmostras - 1\n",
    "dof = len(ANormal) - 1\n",
    "print(f\"Graus de liberdade: {dof}\")\n",
    "\n",
    "# https://www.ttable.org/\n",
    "# Indo na tabela T e buscando um T de 95% two-tailed para 5 graus de liberdade:\n",
    "# Achei! T = 2.571\n",
    "nExperimentos = (( 100 * 2.571 * Sa) / (10 * mediaA) )**2\n",
    "\n",
    "print(f\"Faltam {nExperimentos - len(ANormal)} experimentos!\")"
   ]
  },
  {
   "cell_type": "markdown",
   "metadata": {},
   "source": [
    "### Você pode afirmar que, com 95% de confiança, o novo sistema terá um tempo de execução superior a 13 segundos para menos que 60% dos programas que nele executarem? E com 90% de confiança?"
   ]
  },
  {
   "cell_type": "code",
   "execution_count": 39,
   "metadata": {},
   "outputs": [
    {
     "name": "stdout",
     "output_type": "stream",
     "text": [
      "2 execuções acima de 13 segundos\n",
      "Probabilidade de ser superior a 13 segundos: 0.3333333333333333\n",
      "Com 95% de confiança: 0.6499\n",
      "Com 90% de confiança: 0.5801\n"
     ]
    }
   ],
   "source": [
    "## Primeiro, pegamos quantas das execuções tiveram tempo de execução superior a 13 segundos.\n",
    "\n",
    "nSuperiores = 0\n",
    "\n",
    "for result in ANormal:\n",
    "    if result > 13:\n",
    "        nSuperiores += 1\n",
    "\n",
    "print(f\"{nSuperiores} execuções acima de 13 segundos\")\n",
    "\n",
    "probabilidadeSuperior = nSuperiores / len(ANormal)\n",
    "print(f\"Probabilidade de ser superior a 13 segundos: {probabilidadeSuperior}\")\n",
    "\n",
    "# O Z de 95% é 1.960 para two-tailed e 1.645 para one-tailed. Como queremos saber se o tempo de execução é\n",
    "# superior, fazemos o one-tailed :)\n",
    "Z095 = 1.645\n",
    "\n",
    "res = probabilidadeSuperior + Z095 * np.sqrt((probabilidadeSuperior * (1 - probabilidadeSuperior)) / len(ANormal))\n",
    "print(f\"Com 95% de confiança: {res:.4f}\")\n",
    "# Aqui o res deu 0.6499... Isso significa que não posso afirmar com 95% de confiança que \n",
    "# menos de 60% dos programas vão ter execução acima de 13 segundos\n",
    "# https://www.ttable.org/\n",
    "# Mas posso com 90% de confiança!\n",
    "Z090 = 1.282\n",
    "res = probabilidadeSuperior + Z090 * np.sqrt((probabilidadeSuperior * (1 - probabilidadeSuperior)) / len(ANormal))\n",
    "print(f\"Com 90% de confiança: {res:.4f}\")"
   ]
  }
 ],
 "metadata": {
  "kernelspec": {
   "display_name": "Python 3",
   "language": "python",
   "name": "python3"
  },
  "language_info": {
   "codemirror_mode": {
    "name": "ipython",
    "version": 3
   },
   "file_extension": ".py",
   "mimetype": "text/x-python",
   "name": "python",
   "nbconvert_exporter": "python",
   "pygments_lexer": "ipython3",
   "version": "3.12.8"
  }
 },
 "nbformat": 4,
 "nbformat_minor": 2
}
