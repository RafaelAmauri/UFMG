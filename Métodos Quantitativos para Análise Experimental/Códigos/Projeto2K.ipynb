{
 "cells": [
  {
   "cell_type": "markdown",
   "metadata": {},
   "source": [
    "Os tempos de execução de duas cargas de trabalho foram medidos em dois processadores diferentes,           \n",
    "A e B. Cada experimento foi repetido 3 vezes.\n",
    "\n",
    "| Carga | Processador A | Processador B |\n",
    "|-------|---------------|---------------|\n",
    "| 1     | 41,39,42      | 63,59,64      |\n",
    "| 2     | 51,52,50      | 48,49,47      |\n",
    "\n",
    "#### Você pode dizer, com 90% de confiança, que os tempos de execução da carga 2 são diferentes nos dois processadores? Você pode dizer, com 90% de confiança, que a carga 2 executa mais rápido no  processador B? Qual a maior confiança que você pode atribuir a estas duas afirmativas?"
   ]
  },
  {
   "cell_type": "code",
   "execution_count": 9,
   "metadata": {},
   "outputs": [
    {
     "name": "stdout",
     "output_type": "stream",
     "text": [
      "Media A = 51.0000\n",
      "Media B = 48.0000\n",
      "Diferença das Médias: 3.0000\n",
      "Sa = 1.0000\n",
      "Sb = 1.0000\n",
      "S: 0.8165\n",
      "Graus de Liberdade: 2.0000\n",
      "IC com 90% de confiança diferentes = [0.6158200000000003, 5.38418]\n",
      "IC com 90% de confiança superior = [1.4600810000000002, 4.539918999999999]\n"
     ]
    }
   ],
   "source": [
    "# Para responder a primeira pergunta, fazemos um teste t não-pareado.\n",
    "import numpy as np\n",
    "\n",
    "carga2ProcA = [51, 52, 50]\n",
    "carga2ProcB = [48, 49, 47]\n",
    "\n",
    "mediaA = np.mean(carga2ProcA)\n",
    "mediaB = np.mean(carga2ProcB)\n",
    "print(f\"Media A = {mediaA:.4f}\")\n",
    "print(f\"Media B = {mediaB:.4f}\")\n",
    "\n",
    "diferencaMedia = mediaA - mediaB\n",
    "print(f\"Diferença das Médias: {diferencaMedia:.4f}\")\n",
    "\n",
    "Sa = np.std(carga2ProcA, ddof=1)\n",
    "Sb = np.std(carga2ProcB, ddof=1)\n",
    "print(f\"Sa = {Sa:.4f}\")\n",
    "print(f\"Sb = {Sb:.4f}\")\n",
    "\n",
    "# Para facilitar a conta do S e dos graus de liberdade\n",
    "Sa2_sub_Na = (np.std(carga2ProcA, ddof=1) ** 2) / len(carga2ProcA)\n",
    "Sb2_sub_Nb = (np.std(carga2ProcB, ddof=1) ** 2) / len(carga2ProcB)\n",
    "\n",
    "S = np.sqrt(Sa2_sub_Na + Sb2_sub_Nb)\n",
    "print(f\"S: {S:.4f}\")\n",
    "\n",
    "# Calculando graus de liberdade\n",
    "dof = (S ** 4) / ( (1 / (len(carga2ProcA)-1) * (Sa2_sub_Na**2) ) + ((1 / (len(carga2ProcB)-1) * (Sb2_sub_Nb**2) )) ) - 2\n",
    "print(f\"Graus de Liberdade: {dof:.4f}\")\n",
    "\n",
    "# Agora que temos todos os dados, vamos ver se \n",
    "# o IC da diferença das médias e do desvio padrão inclui o 0.\n",
    "\n",
    "# https://www.ttable.org/\n",
    "\n",
    "valorTabelaT = 2.920\n",
    "lowerBound = 3 - 0.8165 * valorTabelaT\n",
    "upperBound = 3 + 0.8165 * valorTabelaT\n",
    "\n",
    "print(f\"IC com 90% de confiança diferentes = [{lowerBound}, {upperBound}]\")\n",
    "\n",
    "\n",
    "valorTabelaT = 1.886\n",
    "lowerBound = 3 - 0.8165 * valorTabelaT\n",
    "upperBound = 3 + 0.8165 * valorTabelaT\n",
    "\n",
    "print(f\"IC com 90% de confiança superior = [{lowerBound}, {upperBound}]\")"
   ]
  },
  {
   "cell_type": "markdown",
   "metadata": {},
   "source": [
    "#### Considerando um projeto 2kr com dois fatores (a carga e o processador), quais são as estimativas e desvios padrões para cada efeito? Apresente um modelo para previsão do tempo de processamento dados carga e processador.\n",
    "\n",
    "Como estamos medindo o tempo e tempo é tempo de processamento / carga * carga, o modelo é multiplicativo. Sempre que o modelo é multiplicativo, tiramos log das medições."
   ]
  },
  {
   "cell_type": "code",
   "execution_count": 13,
   "metadata": {},
   "outputs": [
    {
     "name": "stdout",
     "output_type": "stream",
     "text": [
      "q0 = 30.3150, qA = 0.0767, qB = -0.3750, qAB = -0.1100\n"
     ]
    }
   ],
   "source": [
    "import pandas as pd\n",
    "import numpy as np\n",
    "\n",
    "tabela = pd.DataFrame(\n",
    "                    [\n",
    "                        [1, -1, -1,  1, 30.58, 30.49, 30.44],\n",
    "                        [1,  1, -1, -1, 30.04, 31.44, 31.15],\n",
    "                        [1, -1,  1, -1, 30.03, 29.12, 30.77],\n",
    "                        [1,  1,  1,  1, 29.19, 30.63, 29.90]\n",
    "                    ],\n",
    "                    columns=[\"0\", \"Step Size\", \"nFrames\", \"Interacao\", \"y1\", \"y2\", \"y3\"]\n",
    "                )\n",
    "\n",
    "#for col in [\"y1\", \"y2\", \"y3\"]:\n",
    "#    logValues = [np.emath.log10(i) for i in tabela[col]]\n",
    "#    tabela[f\"{col}_log\"] = logValues\n",
    "\n",
    "medias = []\n",
    "for i in range(4):\n",
    "    media = 0\n",
    "    for col in [\"y1\", \"y2\", \"y3\"]:\n",
    "        media += tabela[col][i]\n",
    "    media = media / 3\n",
    "\n",
    "    medias.append(media)\n",
    "\n",
    "tabela[\"y_medio\"] = medias\n",
    "#print(tabela)\n",
    "\n",
    "\n",
    "# Divido por 4 porque são 4 niveis na tabela\n",
    "q0 = np.sum(tabela[\"y_medio\"]) / 4\n",
    "\n",
    "total = 0\n",
    "for cNivel, yMed in zip(tabela[\"Step Size\"], tabela[\"y_medio\"]):\n",
    "    total += cNivel * yMed\n",
    "qA = total / 4\n",
    "\n",
    "total = 0\n",
    "for cNivel, yMed in zip(tabela[\"nFrames\"], tabela[\"y_medio\"]):\n",
    "    total += cNivel * yMed\n",
    "qB = total / 4\n",
    "\n",
    "total = 0\n",
    "for cNivel, yMed in zip(tabela[\"Interacao\"], tabela[\"y_medio\"]):\n",
    "    total += cNivel * yMed\n",
    "qAB = total / 4\n",
    "\n",
    "print(f\"q0 = {q0:.4f}, qA = {qA:.4f}, qB = {qB:.4f}, qAB = {qAB:.4f}\")\n",
    "\n",
    "# Quando chegamos nesse ponto de saber quem são os q0, q1, etc, podemos montar o nosso modelo com eles.\n",
    "\n",
    "# Modelo linear:\n",
    "# Log(t) = 1.6975 -0.0031Xa + 0.0392Xb - 0.0524XaXb\n",
    "\n"
   ]
  },
  {
   "cell_type": "markdown",
   "metadata": {},
   "source": [
    "#### Qual a porcentagem de variação explicada por cada efeito? Você está satisfeito com o  seu modelo? Justifique\n",
    "\n",
    "Para saber a porcentagem de variação explicada, temos que calcular o SSA, SSB e SSAB. \n",
    "Como já sabemos o qA, qB e qAB é muito facil."
   ]
  },
  {
   "cell_type": "code",
   "execution_count": 14,
   "metadata": {},
   "outputs": [
    {
     "name": "stdout",
     "output_type": "stream",
     "text": [
      "SST: 5.408300000002782\n",
      "SSY: 11033.399000000001\n",
      "SS0: 11027.990699999998\n",
      "SSE: 3.505066666669455\n",
      "Variacao explicada pelo SSA: 1.3042\n",
      "Variacao explicada pelo SSB: 31.2020\n",
      "Variacao explicada pelo SSAB: 2.6848\n",
      "Variacao explicada pelo SSE: 64.8090\n"
     ]
    }
   ],
   "source": [
    "nReplicacoes = 3\n",
    "SSA  = 4 * nReplicacoes * qA**2\n",
    "SSB  = 4 * nReplicacoes * qB**2\n",
    "SSAB = 4 * nReplicacoes * qAB**2\n",
    "\n",
    "# Em um projeto com replicação, a fórmula do SST muda!\n",
    "# Em um projeto 2k sem replicacão, a fórmula do SST é:\n",
    "# SST = 4 * qA**2 + 4 * qB**2 + 4 * qAB**2;\n",
    "\n",
    "# Mas quando tem replicação, a fórmula muda para:\n",
    "# Soma todos os y obtidos (ou logY, nesse caso como convertemos para log)\n",
    "# e depois subtrai desse valor 4 * nReplicacoes * q0^2\n",
    "total = 0\n",
    "a = list(tabela[\"y1\"])\n",
    "a.extend(tabela[\"y2\"])\n",
    "a.extend(tabela[\"y3\"])\n",
    "for i in a:\n",
    "    total += i **2\n",
    "\n",
    "SST = total - (4 * nReplicacoes * q0**2)\n",
    "print(f\"SST: {SST}\")\n",
    "\n",
    "# Esse total que calculamos é o SSY no projeto 2^kr\n",
    "SSY = total\n",
    "print(f\"SSY: {SSY}\")\n",
    "\n",
    "# E o (4 * nReplicacoes * q0**2) é o SS0\n",
    "SS0 = (4 * nReplicacoes * q0**2)\n",
    "print(f\"SS0: {SS0}\")\n",
    "\n",
    "# O SSE é o SSY - SS0 - SSA - SSB - SSAB\n",
    "SSE = SSY - SS0 - SSA - SSB - SSAB\n",
    "print(f\"SSE: {SSE}\")\n",
    "\n",
    "# Para descobrir quanto da variação cada um explica, dividimos o SS que queremos pelo SST\n",
    "variacaoSSA  = 100 * SSA/SST\n",
    "variacaoSSB  = 100 * SSB/SST\n",
    "variacaoSSAB = 100 * SSAB/SST\n",
    "variacaoSSE  = 100 * SSE/SST\n",
    "\n",
    "print(f\"Variacao explicada pelo SSA: {variacaoSSA:.4f}\")\n",
    "print(f\"Variacao explicada pelo SSB: {variacaoSSB:.4f}\")\n",
    "print(f\"Variacao explicada pelo SSAB: {variacaoSSAB:.4f}\")\n",
    "print(f\"Variacao explicada pelo SSE: {variacaoSSE:.4f}\")"
   ]
  },
  {
   "cell_type": "markdown",
   "metadata": {},
   "source": [
    "#### Com confiança de 90%, qual o tempo de execução estimado para a média de 10 execuções futuras da  carga 1 no processador B? E para apenas uma execução futura na mesma configuração? Compare as  precisões destas duas estimativas."
   ]
  },
  {
   "cell_type": "code",
   "execution_count": 119,
   "metadata": {},
   "outputs": [
    {
     "name": "stdout",
     "output_type": "stream",
     "text": [
      "Valor Predito (escala log): 1.7922\n",
      "Se: 0.0139\n",
      "S: 0.0166\n",
      "Graus de Liberdade: 8.0000\n",
      "IC Calculado para 1 execucoes futuras: [1.7614, 1.8230]\n"
     ]
    }
   ],
   "source": [
    "# Jogando no nosso modelo, logT é o valor previsto pelo modelo.\n",
    "logT = 1.6975 -0.0031 * -1 + 0.0392 * 1 - 0.0524 * -1\n",
    "print(f\"Valor Predito (escala log): {logT:.4f}\")\n",
    "\n",
    "# O Se não é o desvio padrão dos efeitos, mas é usado para calcular eles. \n",
    "# Aqui no caso não vamos precisar\n",
    "Se = np.sqrt(SSE / (4*(nReplicacoes-1)) )\n",
    "print(f\"Se: {Se:.4f}\")\n",
    "\n",
    "# Estimativa de resposta para M experimentos no futuro:\n",
    "M = 1\n",
    "S = Se * np.sqrt( (5 / (4*nReplicacoes)) + (1/M) )\n",
    "print(f\"S: {S:.4f}\")\n",
    "\n",
    "# Agora, calculando o IC para a estimativa de resposta e o desvio padrão das respostas.\n",
    "# Graus de Liberdade = 2^2 * (nreplicacoes-1)\n",
    "\n",
    "dof = 4 * (nReplicacoes-1)\n",
    "print(f\"Graus de Liberdade: {dof:.4f}\")\n",
    "\n",
    "# Agora vamos na tabela T olhar qual T usar!\n",
    "# https://www.ttable.org/\n",
    "\n",
    "# Aqui usamos um T two-tailed 90% de confiança para 8 graus de liberdade, que é 1.860\n",
    "valorTabelaT = 1.860\n",
    "\n",
    "lowerBound   = logT - valorTabelaT * S\n",
    "upperBound   = logT + valorTabelaT * S\n",
    "\n",
    "print(f\"IC Calculado para {M} execucoes futuras: [{lowerBound:.4f}, {upperBound:.4f}]\")"
   ]
  }
 ],
 "metadata": {
  "kernelspec": {
   "display_name": "Python 3",
   "language": "python",
   "name": "python3"
  },
  "language_info": {
   "codemirror_mode": {
    "name": "ipython",
    "version": 3
   },
   "file_extension": ".py",
   "mimetype": "text/x-python",
   "name": "python",
   "nbconvert_exporter": "python",
   "pygments_lexer": "ipython3",
   "version": "3.13.1"
  }
 },
 "nbformat": 4,
 "nbformat_minor": 2
}
