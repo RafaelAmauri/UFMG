{
 "cells": [
  {
   "cell_type": "markdown",
   "metadata": {},
   "source": [
    "## Qual porcentagem da variação dos dados é explicada pelos supostos previsores em uma regressão linear?"
   ]
  },
  {
   "cell_type": "markdown",
   "metadata": {},
   "source": [
    "A resposta é o R2 Score no caso de uma regressão com apenas 1 preditor e o R2 ajustado no caso de uma regressão com 2 ou mais preditores.\n",
    "\n",
    "R2 = SSR / SST\n",
    "\n",
    "R2 Ajustado = ( SSR / (nAmostras / nPreditores) ) / (SST / (nAmostras - 1))\n",
    "\n",
    "O R2 ajustado é sempre menor ou igual ao R2 normal"
   ]
  },
  {
   "cell_type": "code",
   "execution_count": 3,
   "metadata": {},
   "outputs": [
    {
     "name": "stdout",
     "output_type": "stream",
     "text": [
      "0.788031977427698\n"
     ]
    }
   ],
   "source": [
    "SST = 850.6\n",
    "SSR = 670.3\n",
    "\n",
    "R2 = (SSR / SST)\n",
    "print(R2)"
   ]
  },
  {
   "cell_type": "markdown",
   "metadata": {},
   "source": [
    "## Teste F - Quais preditores explicam uma fração signigicativa da variação?\n",
    "\n",
    "Saber se os previsores explicam uma fração significativa da variação equivale a perguntar se a regressao é significativa. \n",
    "\n",
    "Quem responde se a regressão é significativa é o teste-F.\n",
    "\n",
    "Teste F:\n",
    "\n",
    "SST = 850.6\n",
    "\n",
    "SSR = 670.3\n",
    "\n",
    "\n",
    "SSE = SST - SSR = 850.6 - 670.3 = 180.3\n",
    "\n",
    "\n",
    "Graus de Liberdade do SSR é: número de previsores (o B0 não é um previsor!)\n",
    "\n",
    "Graus de Liberdade do SST é: número de amostras - 1\n",
    "\n",
    "Graus de liberdade do SSE é: número de amostras - número de previsores - 1\n",
    "\n",
    "\n",
    "MSR = SSR / Graus de Liberdade do SSR = 670.3 / 2 = 335.15\n",
    "\n",
    "MSE = SSE / Graus de Liberdade do SSE = 180.3 / 25 = 7.212\n",
    "\n",
    "F Calculado = MSR / MSE = 46.7"
   ]
  },
  {
   "cell_type": "code",
   "execution_count": 1,
   "metadata": {},
   "outputs": [
    {
     "name": "stdout",
     "output_type": "stream",
     "text": [
      "MSR = 335.1500, MSE = 7.2120\n",
      "Calculated F = 46.47115917914585\n"
     ]
    }
   ],
   "source": [
    "SST = 850.6\n",
    "SSR = 670.3\n",
    "SSE = SST - SSR\n",
    "\n",
    "dofSSR = 2\n",
    "dofSST = 28 - 1\n",
    "dofSSE = 28 - 2 - 1\n",
    "\n",
    "MSR = SSR / dofSSR\n",
    "MSE = SSE / dofSSE\n",
    "print(f\"MSR = {MSR:.4f}, MSE = {MSE:.4f}\")\n",
    "\n",
    "calculatedF = MSR / MSE\n",
    "print(f\"Calculated F = {calculatedF}\")"
   ]
  },
  {
   "cell_type": "markdown",
   "metadata": {},
   "source": [
    "Agora, pegamos o F calculado e comparamos com o valor na tabela do teste F.\n",
    "\n",
    "https://statisticsbyjim.com/hypothesis-testing/f-table/\n",
    "\n",
    "No nosso exemplo, temos o dofSSR = 2, o dofSSE = 25 e queremos 90% de confiança. Assim, vamos na tabela do 90% de confiança e pegamos o valor tabela[2][25] = 2.53\n",
    "Com 95% de confiança, iríamos na tabela do 95% e pegamos o mesmo valor tabela[2][25] = 3.39\n",
    "\n",
    "Isso tudo para, no final, sabermos que a nossa regressão passa no teste F porque o nosso F calculado é maior que os valores encontrados na tabela F. \n",
    "\n",
    "É literalmente só fazer: F calculado > valor da tabela F? Se sim, passou. Se não, não passou."
   ]
  },
  {
   "cell_type": "markdown",
   "metadata": {},
   "source": [
    "## Preditores significativos\n",
    "\n",
    "\n",
    "Para saber quais previsores são significativos, fazemos um intervalo de confiança para cada um dos previsores :)\n",
    "\n",
    "https://www.ttable.org/\n",
    "\n",
    "Continuando no nosso exemplo, temos que:\n",
    "\n",
    "dof = nAmostras - nPreditores - 1 = 28 - 2 - 1 = 25\n",
    "\n",
    "Então, vamos na tabela e buscamos o valor na coluna two-tails. Para 95% de confiança e 25 graus de liberdade, no two-tails temos que o valor buscado é 2.06"
   ]
  },
  {
   "cell_type": "code",
   "execution_count": 2,
   "metadata": {},
   "outputs": [
    {
     "name": "stdout",
     "output_type": "stream",
     "text": [
      "Coeficiente 1: [0.0174, 0.0226]\n",
      "Coeficiente 2: [1.4340, 4.5660]\n"
     ]
    }
   ],
   "source": [
    "valorTabelaT = 1.740\n",
    "\n",
    "# Como o coeficiente 0 não é um preditor, não incluímos ele!\n",
    "coeficiente1 = 0.02\n",
    "coeficiente2 = 3\n",
    "\n",
    "desviopadraocoeficiente1 = 0.0015\n",
    "desviopadraocoeficiente2 = 0.9\n",
    "\n",
    "for idx, (c, s) in enumerate(zip([coeficiente1, coeficiente2], [desviopadraocoeficiente1, desviopadraocoeficiente2])):\n",
    "    lowerBound = c - s * valorTabelaT\n",
    "    upperBound = c + s * valorTabelaT\n",
    "\n",
    "    print(f\"Coeficiente {idx+1}: [{lowerBound:.4f}, {upperBound:.4f}]\")"
   ]
  },
  {
   "cell_type": "markdown",
   "metadata": {},
   "source": [
    "## Há algum indício de multicolinearidade entre A e B? Por quê? Em caso afirmativo, descreva o que deverá ser feito para tratar este problema.\n",
    "\n",
    "Não há indício algum, pois o valor do R2 está bom, o teste F passou e o IC dos dois preditores é significativo. Não precisamos fazer mais nada :)"
   ]
  },
  {
   "cell_type": "markdown",
   "metadata": {},
   "source": [
    "## Vendo se um modelo com apenas um previsor compensa:"
   ]
  },
  {
   "cell_type": "code",
   "execution_count": 3,
   "metadata": {},
   "outputs": [
    {
     "name": "stdout",
     "output_type": "stream",
     "text": [
      "MediaX = 10.9667, MediaY = 40.1000\n",
      "SigmaXY = 2711.3400, SigmaX^2 = 741.6200\n",
      "Coeficiente Previsor 0 = 0.2298, Coeficiente Previsor 1 = 3.6356\n",
      "SSE = 21.3755\n",
      "SSY = 9933.9600\n",
      "SST = 285.9000\n",
      "SSR = 264.5245\n",
      "R2 = 0.9252\n"
     ]
    }
   ],
   "source": [
    "import numpy as np\n",
    "\n",
    "# Calculando os previsores (no caso aqui é só 1 porque o b0 não é um previsor, mas enfim)\n",
    "# Ainda precisamos do b0 para fazer a regressão, então bora.\n",
    "\n",
    "valoresX = [8.5, 8.9, 10.6, 11.6, 13, 13.2]\n",
    "valoresY = [30.9, 32.7, 36.7, 46.3, 46.2, 47.8]\n",
    "\n",
    "mediaX = np.mean(valoresX)\n",
    "mediaY = np.mean(valoresY)\n",
    "\n",
    "print(f\"MediaX = {mediaX:.4f}, MediaY = {mediaY:.4f}\")\n",
    "\n",
    "sigmaXY = 0\n",
    "sigmaX2 = 0\n",
    "for x, y in zip(valoresX, valoresY):\n",
    "    sigmaXY += x * y\n",
    "    sigmaX2 += x * x\n",
    "\n",
    "print(f\"SigmaXY = {sigmaXY:.4f}, SigmaX^2 = {sigmaX2:.4f}\")\n",
    "\n",
    "previsor1 = (sigmaXY - len(valoresX) * mediaX * mediaY) / (sigmaX2 - len(valoresX) * mediaX * mediaX)\n",
    "previsor0 = mediaY - previsor1 * mediaX\n",
    "\n",
    "print(f\"Coeficiente Previsor 0 = {previsor0:.4f}, Coeficiente Previsor 1 = {previsor1:.4f}\")\n",
    "\n",
    "# Agora que temos o modelo da regressão com os previsores, calculados os SSR e o SST para\n",
    "# calcular o R2 Score. Quem vai dizer se a regressão está boa é o R2.\n",
    "\n",
    "# O SSR é o SST - SSE, então vamos começar calculando o SSE.\n",
    "\n",
    "# O SSE é a soma dos erros ao quadrado. Vamos lá:\n",
    "\n",
    "modelo = lambda x: previsor0 + previsor1 * x\n",
    "SSE    = 0\n",
    "\n",
    "for x, y in zip(valoresX, valoresY):\n",
    "    predictedY   = modelo(x)\n",
    "    errorSquared = (predictedY - y) ** 2\n",
    "    SSE += errorSquared\n",
    "\n",
    "print(f\"SSE = {SSE:.4f}\")\n",
    "\n",
    "# Agora, calcular o SSY.\n",
    "# O SSY é a soma de todos os Y ao quadrado. Vamos lá:\n",
    "SSY = 0\n",
    "for y in valoresY:\n",
    "    SSY += y ** 2\n",
    "\n",
    "print(f\"SSY = {SSY:.4f}\")\n",
    "\n",
    "# Por fim, calculamos o SST. \n",
    "# O SST é a soma dos quadrados das diferenças entre a média do Y e o Y real. É simples, eu juro. Olha abaixo:\n",
    "SST = 0\n",
    "for y in valoresY:\n",
    "    SST += (y - mediaY) ** 2\n",
    "\n",
    "print(f\"SST = {SST:.4f}\")\n",
    "\n",
    "# Já temos todos os componentes para fazer o cálculo do R2! Bora que tá quase!\n",
    "# O SSR é o SST - SSE, e já temos os dois!\n",
    "\n",
    "SSR = SST - SSE\n",
    "print(f\"SSR = {SSR:.4f}\")\n",
    "\n",
    "# Por fim, calculamos o R2:\n",
    "R2 = SSR / SST\n",
    "print(f\"R2 = {R2:.4f}\")"
   ]
  },
  {
   "cell_type": "markdown",
   "metadata": {},
   "source": [
    "## Exemplo 2 de achar uma regressão para dados e ver se compensa\n",
    "\n",
    "Tenho os dados a seguir:\n",
    "\n",
    "| K    | Tempo (ms) |\n",
    "|------|------------|\n",
    "| 128  | 93         |\n",
    "| 256  | 478        |\n",
    "| 512  | 3404       |\n",
    "| 1024 | 25410      |\n",
    "\n",
    "E aí? Uma regressão linear pode ser aplicada aos dados diretamente? Não, porque eles não seguem um padrão linear... Quando o K dobra, o tempo mais do que dobra, e muito mais. Quando o K dobra de novo, o tempo de novo aumenta ainda mais.\n",
    "\n",
    "Aqui esses dados crescem de maneira exponencial. O que significa que o nosso modelo, a princípio, é exponencial...\n",
    "\n",
    "Calma, isso só significa que a fórmula dele deixa de ser y = a*x + b e vira\n",
    "y = a * e^(bx)\n",
    "\n",
    "Mas... e se a gente tirar um log na base 'e' desse modelo? Fica:\n",
    "\n",
    "ln(y) = ln(a) + bx * ln(e) // vira '+' porque ln(a * b) = ln(a) + ln(b)! :)\n",
    "\n",
    "ln(y) = ln(a) + bx * 1\n",
    "\n",
    "ln(y) = ln(a) + bx\n",
    "\n",
    "Olha só, virou um modelo linear! Vamos trocar esse ln(a) por outro nome: b0. Também vamos trocar ln(y) por y'.\n",
    "\n",
    "Fica: \n",
    "\n",
    "y' = b0 + b1 * x\n",
    "\n",
    "Virou um modelo linear que agora podemos reciclar as mesmas contas de antes!"
   ]
  },
  {
   "cell_type": "code",
   "execution_count": 4,
   "metadata": {},
   "outputs": [
    {
     "name": "stdout",
     "output_type": "stream",
     "text": [
      "MediaX = 480.0000\n",
      "MediaY = 7.2445\n",
      "SigmaXY = 16709.8664\n",
      "SigmaX^2 = 1392640.0000\n",
      "Coeficiente Previsor 0 = 4.3907\n",
      "Coeficiente Previsor 1 = 0.0059\n",
      "SSE = 1.0493\n",
      "SSY = 227.6279\n",
      "SST = 17.6994\n",
      "SSR = 16.6501\n",
      "R2 = 0.9407\n"
     ]
    }
   ],
   "source": [
    "valoresX = [128, 256, 512, 1024]\n",
    "valoresY = [93, 478, 3404, 25410]\n",
    "\n",
    "# Não podemos mexer nos valores de X. Isso porque, no nosso modelo, o 'x' da fórmula exponencial \n",
    "# nunca ficou com um ln. Quem ficou com ln foi o y, no log(y). Por isso, tiramos log apenas dos valores Y.\n",
    "valoresXLog = valoresX\n",
    "valoresYLog = np.log(valoresY)\n",
    "\n",
    "mediaX = np.mean(valoresXLog)\n",
    "mediaY = np.mean(valoresYLog)\n",
    "\n",
    "print(f\"MediaX = {mediaX:.4f}\\nMediaY = {mediaY:.4f}\")\n",
    "\n",
    "sigmaXY = 0\n",
    "sigmaX2 = 0\n",
    "for x, y in zip(valoresXLog, valoresYLog):\n",
    "    sigmaXY += x * y\n",
    "    sigmaX2 += x * x\n",
    "\n",
    "print(f\"SigmaXY = {sigmaXY:.4f}\\nSigmaX^2 = {sigmaX2:.4f}\")\n",
    "\n",
    "previsor1 = (sigmaXY - len(valoresX) * mediaX * mediaY) / (sigmaX2 - len(valoresX) * mediaX * mediaX)\n",
    "previsor0 = mediaY - previsor1 * mediaX\n",
    "\n",
    "print(f\"Coeficiente Previsor 0 = {previsor0:.4f}\")\n",
    "print(f\"Coeficiente Previsor 1 = {previsor1:.4f}\")\n",
    "\n",
    "# Agora que temos o modelo da regressão com os previsores, calculados os SSR e o SST para\n",
    "# calcular o R2 Score. Quem vai dizer se a regressão está boa é o R2.\n",
    "\n",
    "# O SSR é o SST - SSE, então vamos começar calculando o SSE.\n",
    "\n",
    "# O SSE é a soma dos erros ao quadrado. Vamos lá:\n",
    "\n",
    "modelo = lambda x: previsor0 + previsor1 * x\n",
    "SSE    = 0\n",
    "\n",
    "for x, y in zip(valoresXLog, valoresYLog):\n",
    "    predictedY   = modelo(x)\n",
    "    errorSquared = (predictedY - y) ** 2\n",
    "    SSE += errorSquared\n",
    "\n",
    "print(f\"SSE = {SSE:.4f}\")\n",
    "\n",
    "# Agora, calcular o SSY.\n",
    "# O SSY é a soma de todos os Y ao quadrado. Vamos lá:\n",
    "SSY = 0\n",
    "for y in valoresYLog:\n",
    "    SSY += y ** 2\n",
    "\n",
    "print(f\"SSY = {SSY:.4f}\")\n",
    "\n",
    "# Por fim, calculamos o SST. \n",
    "# O SST é a soma dos quadrados das diferenças entre a média do Y e o Y real. É simples, eu juro. Olha abaixo:\n",
    "SST = 0\n",
    "for y in valoresYLog:\n",
    "    SST += (y - mediaY) ** 2\n",
    "\n",
    "print(f\"SST = {SST:.4f}\")\n",
    "\n",
    "# Já temos todos os componentes para fazer o cálculo do R2! Bora que tá quase!\n",
    "# O SSR é o SST - SSE, e já temos os dois!\n",
    "\n",
    "SSR = SST - SSE\n",
    "print(f\"SSR = {SSR:.4f}\")\n",
    "\n",
    "# Por fim, calculamos o R2:\n",
    "R2 = SSR / SST\n",
    "print(f\"R2 = {R2:.4f}\")"
   ]
  },
  {
   "cell_type": "markdown",
   "metadata": {},
   "source": [
    "## Quais parâmetros são significativos?\n",
    "\n",
    "Já temos os valores dos coeficientes: 4.3907 e 0.0059.\n",
    "\n",
    "O valor dos graus de liberdade é: \n",
    "\n",
    "dof = Número de amostras - nPreditores - 1\n",
    "\n",
    "dof = 4 - 1 - 1 \n",
    "\n",
    "dof = 2\n",
    "\n",
    "Calcular o desvio padrão dos coeficientes é mais chatinho, vamos fazer um programa em Python abaixo:"
   ]
  },
  {
   "cell_type": "code",
   "execution_count": 4,
   "metadata": {},
   "outputs": [
    {
     "name": "stdout",
     "output_type": "stream",
     "text": [
      "Se = 0.7243\n",
      "Sb0 = 0.6227\n",
      "Sb1 = 0.0011\n",
      "IC para Coeficiente 1: [2.5723, 6.2091]\n",
      "IC para Coeficiente 2: [0.0028, 0.0090]\n"
     ]
    }
   ],
   "source": [
    "import numpy as np\n",
    "\n",
    "valoresX = [128, 256, 512, 1024]\n",
    "valoresY = [93, 478, 3404, 25410]\n",
    "\n",
    "mediaX = 480.0000\n",
    "mediaY = 7.2445\n",
    "\n",
    "sigmaXY = 16709.8664\n",
    "sigmaX2 = 1392640.0000\n",
    "\n",
    "Coeficiente0 = 4.3907\n",
    "Coeficiente1 = 0.0059\n",
    "\n",
    "SSE = 1.0493\n",
    "SSY = 227.6279\n",
    "SST = 17.6994\n",
    "SSR = 16.6501\n",
    "R2 = 0.9407\n",
    "\n",
    "Se = np.sqrt(SSE / (len(valoresX) - 2))\n",
    "#Se = round(Se, 4)\n",
    "print(f\"Se = {Se:.4f}\")\n",
    "\n",
    "Sb0 = Se * np.sqrt((1 / len(valoresX)) + ((mediaX ** 2) / (sigmaX2 - len(valoresX) * mediaX ** 2)))\n",
    "print(f\"Sb0 = {Sb0:.4f}\")\n",
    "\n",
    "Sb1 = Se / (np.sqrt(sigmaX2 - len(valoresX) * mediaX ** 2))\n",
    "print(f\"Sb1 = {Sb1:.4f}\")\n",
    "\n",
    "# Pronto! Agora, tiramos os ICs da mesma forma que fizemos antes!\n",
    "\n",
    "# IC de 90% two-tails na tabela T para 2 graus de liberdade é 2.92!\n",
    "# https://www.ttable.org/\n",
    "\n",
    "valorTabelaT = 2.92\n",
    "for idx, (c, s) in enumerate(zip([Coeficiente0, Coeficiente1], [Sb0, Sb1])):\n",
    "    lowerBound = c - s * valorTabelaT\n",
    "    upperBound = c + s * valorTabelaT\n",
    "\n",
    "    print(f\"IC para Coeficiente {idx+1}: [{lowerBound:.4f}, {upperBound:.4f}]\")"
   ]
  },
  {
   "cell_type": "markdown",
   "metadata": {},
   "source": [
    "## Qual o tempo esperado para criptografar um registro de 384 bits?\n",
    "\n",
    "Sem medo! Joga na fórmula!\n",
    "\n",
    "y' = b0 + b1 * x\n",
    "\n",
    "y' = 4.3907 + 0.005945 * 384"
   ]
  },
  {
   "cell_type": "code",
   "execution_count": 80,
   "metadata": {},
   "outputs": [
    {
     "name": "stdout",
     "output_type": "stream",
     "text": [
      "Y = 791.3814\n"
     ]
    }
   ],
   "source": [
    "yLinha = 4.3909 + 0.005945 * 384\n",
    "\n",
    "# Temos que lembrar que esse yLinha é o ln do Y real. Para obter o Y real, é só desfazer o ln.\n",
    "# Elevamos 'e' ao valor yLinha para obter o Y real.\n",
    "\n",
    "yReal = np.e ** yLinha\n",
    "print(f\"Y = {yReal:.4f}\")"
   ]
  },
  {
   "cell_type": "markdown",
   "metadata": {},
   "source": [
    "## Quais limites  você colocaria para esta estimativa se você  aceita um erro máximo de 10% para uma única medida futura?\n",
    "\n",
    "Esse eu não entendi como faz nem lendo a correção dela :("
   ]
  },
  {
   "cell_type": "markdown",
   "metadata": {},
   "source": [
    "## A regressão múltipla é significativa com 90% de confiança?\n",
    "\n",
    "Então, é só fazer o teste F :)\n",
    "\n",
    "Quem diz pra gente se a regressão é significativa é o teste F.\n",
    "\n",
    "Nesse tipo de questão, ela TEM que dar as matrizes resultantes.\n",
    "\n",
    "Aqui, temos os seguintes dados:\n",
    "\n",
    "| j   | 0       | 1      | 2      |\n",
    "|-----|---------|--------|--------|\n",
    "| Bj  | -0.1614 | 0.1182 | 0.0165 |\n",
    "| Cjj | 0.6297  | 0.0280 | 0.0012 |\n",
    "\n",
    "^^^^\n",
    "O valor na linha B é o valor dos coeficientes.\n",
    "O valor na linha C é para calcular o desvio padrão de cada coeficiente.\n",
    "\n",
    "Coeficiente de correlação múltipla é apenas outro nome para o R. Atenção, não é o R², é o R mesmo! \n",
    "\n",
    "R = 0.99\n",
    "\n",
    "O desvio padrão dos erros é 1.2\n",
    "Se = 1.2"
   ]
  },
  {
   "cell_type": "code",
   "execution_count": 7,
   "metadata": {},
   "outputs": [
    {
     "name": "stdout",
     "output_type": "stream",
     "text": [
      "Valor F = 98.5029\n",
      "Graus de Liberdade SSR = 2\n",
      "Graus de Liberdade SSE = 4\n",
      "A regressão é significativa pois o F Calculado 98.5029 é maior que o valor na tabela F 4.3200\n"
     ]
    }
   ],
   "source": [
    "# Com essas informações, já conseguimos fazer um bocado de coisas:\n",
    "\n",
    "R  = 0.99\n",
    "R2 = R * R\n",
    "Se = 1.2\n",
    "\n",
    "nAmostras   = 7\n",
    "nParametros = 2\n",
    "\n",
    "# Se = np.sqrt(SSE / (nAmostras - nParametros - 1))\n",
    "# Se ^2 = SSE / (nAmostras - nParametros - 1)\n",
    "# Se ^2 = SSE / (7 - 2 - 1)\n",
    "# SSE = Se ^ 2 * 4\n",
    "SSE = Se ** 2 * 4\n",
    "\n",
    "MSE = Se ** 2 \n",
    "\n",
    "# SST = SSR + SSE\n",
    "# R2 = SSR / SST\n",
    "# R2 = SSR / (SSR + SSE)\n",
    "# R2 * SSR + R2 * SSE = SSR\n",
    "# SSR = 0.9801 * SSR + 5.6454\n",
    "# 0.0199 * SSR = 5.6454\n",
    "SSR = 283.6884\n",
    "\n",
    "MSR = SSR / nParametros\n",
    "\n",
    "# Calculando o valor F...\n",
    "calculatedF = MSR / MSE\n",
    "print(f\"Valor F = {calculatedF:.4f}\")\n",
    "\n",
    "# Agora, vamos na tabela F e pegamos o valor tabela[dofSSR][dofSSE] :) \n",
    "dofSSR = nParametros\n",
    "dofSSE = nAmostras - nParametros - 1\n",
    "\n",
    "print(f\"Graus de Liberdade SSR = {dofSSR}\")\n",
    "print(f\"Graus de Liberdade SSE = {dofSSE}\")\n",
    "\n",
    "# https://statisticsbyjim.com/hypothesis-testing/f-table/\n",
    "valorTabelaF = 4.32\n",
    "\n",
    "if calculatedF > valorTabelaF:\n",
    "    print(f\"A regressão é significativa pois o F Calculado {calculatedF:.4f} é maior que o valor na tabela F {valorTabelaF:.4f}\")\n",
    "else:\n",
    "    print(f\"A regressão NÃO é significativa pois o F Calculado {calculatedF:.4f} é menor que o valor na tabela F {valorTabelaF:.4f}\")"
   ]
  },
  {
   "cell_type": "markdown",
   "metadata": {},
   "source": [
    "## Quais variáveis previsoras são significativas com 90% de confiança?\n",
    "\n",
    "Aqui temos que tirar o IC dos previsores.\n",
    "\n",
    "B0 não é previsor! Então, não precisamos calcular ele!\n",
    "\n",
    "\n",
    "Graus de Liberdade para os preditores = nAmostras - nPreditores - 1 = 7 - 2 -1 = 4"
   ]
  },
  {
   "cell_type": "code",
   "execution_count": 15,
   "metadata": {},
   "outputs": [
    {
     "name": "stdout",
     "output_type": "stream",
     "text": [
      "Sb1 = 0.2008\n",
      "Sb2 = 0.0416\n",
      "Coeficiente 0 tem IC: [-0.3099, 0.5463]\n",
      "Coeficiente 1 tem IC: [-0.0721, 0.1051]\n"
     ]
    }
   ],
   "source": [
    "import numpy as np\n",
    "\n",
    "nAmostras   = 7\n",
    "nParametros = 2\n",
    "\n",
    "R  = 0.99\n",
    "R2 = R * R\n",
    "Se = 1.2\n",
    "\n",
    "\n",
    "# Sb1 = Se * np.sqrt(C[1][1])\n",
    "Sb1 = Se * np.sqrt(0.0280)\n",
    "print(f\"Sb1 = {Sb1:.4f}\")\n",
    "\n",
    "# Sb2 = Se * np.sqrt(C[2][2])\n",
    "Sb2 = Se * np.sqrt(0.0012)\n",
    "print(f\"Sb2 = {Sb2:.4f}\")\n",
    "\n",
    "# Agora, vamos na tabela T olhar o valor two-tailed para 90% de confiança.\n",
    "# https://www.ttable.org/\n",
    "\n",
    "# dof = nAmostras - nPreditores - 1 = 7 - 2 -1 = 4\n",
    "dof = 4\n",
    "\n",
    "# O valor na tabela T é o valor two-tailed para 90% de confiança com 4 graus de liberdade\n",
    "valorTabelaT = 2.132\n",
    "\n",
    "coeficiente1 = 0.1182\n",
    "coeficiente2 = 0.0165\n",
    "\n",
    "for idx, (c, s) in enumerate(zip([coeficiente1, coeficiente2], [Sb1, Sb2])):\n",
    "    lowerBound = c - valorTabelaT * s\n",
    "    upperBound = c + valorTabelaT * s\n",
    "\n",
    "    print(f\"Coeficiente {idx+1} tem IC: [{lowerBound:.4f}, {upperBound:.4f}]\")"
   ]
  },
  {
   "cell_type": "markdown",
   "metadata": {},
   "source": [
    "## Qual variável previsora você consegue estimar com maior precisão, para uma confiança de 90%? Justifique apresentando a precisão que você pode atribuir a cada variável com a dada confiança\n",
    "\n",
    "Essa conta é um pouco confusa porque ela depende dos valores obtidos anteriormente no cálculo do IC.\n",
    "\n",
    "O bom é que ela recicla esses mesmos valores, então não temos que recalcular mais nada."
   ]
  },
  {
   "cell_type": "code",
   "execution_count": 20,
   "metadata": {},
   "outputs": [
    {
     "name": "stdout",
     "output_type": "stream",
     "text": [
      "Erro máximo associado à estimativa do preditor 1: 3.6218\n",
      "Erro máximo associado à estimativa do preditor 2: 5.3712\n"
     ]
    }
   ],
   "source": [
    "for idx, (c, s) in enumerate(zip([coeficiente1, coeficiente2], [Sb1, Sb2])):\n",
    "    erroMax = s * valorTabelaT / c\n",
    "\n",
    "    print(f\"Erro máximo associado à estimativa do preditor {idx+1}: {erroMax:.4f}\")"
   ]
  },
  {
   "cell_type": "markdown",
   "metadata": {},
   "source": [
    "Erro máximo associado à estimativa do preditor 1: 3.6218\n",
    "Erro máximo associado à estimativa do preditor 2: 5.3712\n",
    "\n",
    "Com os resultados acima, aparentemente a maior precisão é da variável B1, porque o erro dela é menor. Mas, esta precisão está muito baixa."
   ]
  },
  {
   "cell_type": "markdown",
   "metadata": {},
   "source": [
    "## Você está satisfeito com seu modelo? Justifique. Se não, qual seria seu próximo passo?\n",
    "\n",
    "Então... O modelo tem um R2 bom, o teste F passou, mas nenhum preditor é significativo porque o IC dos dois inclui o 0. E a precisão das variáveis ficou ruim...\n",
    "\n",
    "Isso é um sinal de multicolinearidade. O correto a se fazer nesse caso é criar testes separados com cada previsor e ver se o resultado melhora."
   ]
  },
  {
   "cell_type": "code",
   "execution_count": null,
   "metadata": {},
   "outputs": [
    {
     "name": "stdout",
     "output_type": "stream",
     "text": [
      "0.8014302741358761\n"
     ]
    }
   ],
   "source": [
    "R2 = 840.5 / (840.5+208.25)\n",
    "print(R2)"
   ]
  },
  {
   "cell_type": "markdown",
   "metadata": {},
   "source": [
    "#### Exemplo de regressão multivariada\n",
    "\n",
    "Essa é a tabela\n",
    "\n",
    "| Esquema | #Ataques | Duração | Índice |\n",
    "|---------|----------|---------|--------|\n",
    "| A       | 5        | 118     | 8.1    |\n",
    "| B       | 13       | 132     | 6.8    |\n",
    "| C       | 20       | 119     | 7.0    |\n",
    "| D       | 28       | 153     | 7.4    |\n",
    "| E       | 41       | 91      | 7.7    |\n",
    "| F       | 49       | 118     | 7.5    |\n",
    "| G       | 61       | 132     | 7.6    |\n",
    "| H       | 62       | 105     | 8.0    |"
   ]
  },
  {
   "cell_type": "code",
   "execution_count": 32,
   "metadata": {},
   "outputs": [
    {
     "name": "stdout",
     "output_type": "stream",
     "text": [
      "Coeficientes: ['30.8850', '0.0944', '-0.0775']\n"
     ]
    }
   ],
   "source": [
    "import numpy as np\n",
    "''' Exemplo da lista\n",
    "X = np.matrix([\n",
    "                [1,  5, 118],\n",
    "                [1, 13, 132],\n",
    "                [1, 20, 119],\n",
    "                [1, 28, 153],\n",
    "                [1, 41, 91],\n",
    "                [1, 49, 118],\n",
    "                [1, 61, 132],\n",
    "                [1, 62, 105]\n",
    "]\n",
    ")\n",
    "\n",
    "Y = np.matrix([\n",
    "        [8.1],\n",
    "        [6.8],\n",
    "        [7.0],\n",
    "        [7.4],\n",
    "        [7.7],\n",
    "        [7.5],\n",
    "        [7.6],\n",
    "        [8.0]\n",
    "])\n",
    "'''\n",
    "\n",
    "X = np.matrix([\n",
    "                [1,  6, 16],\n",
    "                [1,  6, 16],\n",
    "                [1,  6, 16],\n",
    "                [1,  3, 16],\n",
    "                [1,  3, 16],\n",
    "                [1,  3, 16],\n",
    "                [1,  6, 8],\n",
    "                [1,  6, 8],\n",
    "                [1,  6, 8],\n",
    "                [1,  3, 8],\n",
    "                [1,  3, 8],\n",
    "                [1,  3, 8]\n",
    "]\n",
    ")\n",
    "\n",
    "Y = np.matrix([\n",
    "        [29.97],\n",
    "        [30.63],\n",
    "        [29.90],\n",
    "        [30.03],\n",
    "        [29.12],\n",
    "        [30.77],\n",
    "        [30.04],\n",
    "        [31.44],\n",
    "        [31.15],\n",
    "        [30.58],\n",
    "        [30.49],\n",
    "        [30.44]\n",
    "])\n",
    "\n",
    "Xt = X.T\n",
    "\n",
    "XtX = np.dot(Xt, X)\n",
    "\n",
    "C = XtX.I \n",
    "\n",
    "\n",
    "XtY = np.dot(Xt, Y)\n",
    "\n",
    "b = np.dot(C, XtY)\n",
    "b = [f\"{i.item():.4f}\" for i in b]\n",
    "print(f\"Coeficientes: {b}\")"
   ]
  }
 ],
 "metadata": {
  "kernelspec": {
   "display_name": "Python 3",
   "language": "python",
   "name": "python3"
  },
  "language_info": {
   "codemirror_mode": {
    "name": "ipython",
    "version": 3
   },
   "file_extension": ".py",
   "mimetype": "text/x-python",
   "name": "python",
   "nbconvert_exporter": "python",
   "pygments_lexer": "ipython3",
   "version": "3.13.1"
  }
 },
 "nbformat": 4,
 "nbformat_minor": 2
}
